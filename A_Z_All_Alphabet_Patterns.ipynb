{
  "nbformat": 4,
  "nbformat_minor": 0,
  "metadata": {
    "colab": {
      "provenance": []
    },
    "kernelspec": {
      "name": "python3",
      "display_name": "Python 3"
    },
    "language_info": {
      "name": "python"
    }
  },
  "cells": [
    {
      "cell_type": "code",
      "source": [
        "\n",
        "for row in range (7):\n",
        "  for col in range (5):\n",
        "    if (col==0 or col==4)and(row!=0) or(row==0 or row==3)and(col>0 and col<4):\n",
        "      print(\"*\",end=\"\")\n",
        "    else:\n",
        "      print(end=\" \")\n",
        "  print()"
      ],
      "metadata": {
        "colab": {
          "base_uri": "https://localhost:8080/"
        },
        "id": "ZpvfYnEHgAnC",
        "outputId": "692f5fd3-1f6c-4e98-f7c4-375a63d282e6"
      },
      "execution_count": 12,
      "outputs": [
        {
          "output_type": "stream",
          "name": "stdout",
          "text": [
            " *** \n",
            "*   *\n",
            "*   *\n",
            "*****\n",
            "*   *\n",
            "*   *\n",
            "*   *\n"
          ]
        }
      ]
    },
    {
      "cell_type": "code",
      "source": [
        "for row in range (7):\n",
        "  for col in range (5):\n",
        "    if (col==0 )or( col==4)and(row!=0 and row!=3 and row!=6) or(row==0 or row==3or row==6 )and(col>0 and col<4):\n",
        "      print(\"*\",end=\"\")\n",
        "    else:\n",
        "      print(end=\" \")\n",
        "  print()"
      ],
      "metadata": {
        "colab": {
          "base_uri": "https://localhost:8080/"
        },
        "id": "4otOOmddgAqc",
        "outputId": "62073f58-fe3c-40e5-b618-c1f3a026a10b"
      },
      "execution_count": 13,
      "outputs": [
        {
          "output_type": "stream",
          "name": "stdout",
          "text": [
            "**** \n",
            "*   *\n",
            "*   *\n",
            "**** \n",
            "*   *\n",
            "*   *\n",
            "**** \n"
          ]
        }
      ]
    },
    {
      "cell_type": "code",
      "source": [
        "\n",
        "for row in range (7):\n",
        "  for col in range (5):\n",
        "    if (col==0) and(row!=0 and  row!=6)or ((row==0 or row==6)and(col>0)) :\n",
        "      print(\"*\",end=\" \")\n",
        "    else:\n",
        "      print(end=\" \")\n",
        "  print()"
      ],
      "metadata": {
        "colab": {
          "base_uri": "https://localhost:8080/"
        },
        "id": "49KlD5DPgAth",
        "outputId": "eb69fabf-f673-4257-acfb-91b9c2f65f61"
      },
      "execution_count": 14,
      "outputs": [
        {
          "output_type": "stream",
          "name": "stdout",
          "text": [
            " * * * * \n",
            "*     \n",
            "*     \n",
            "*     \n",
            "*     \n",
            "*     \n",
            " * * * * \n"
          ]
        }
      ]
    },
    {
      "cell_type": "code",
      "source": [
        "for row in range (7):\n",
        "  for col in range (5):\n",
        "    if (col==0)or (col==4) and(row!=0 and  row!=6)or ((row==0 or row==6)and(col<4)) :\n",
        "      print(\"*\",end=\"\")\n",
        "    else:\n",
        "      print(end=\" \")\n",
        "  print()\n",
        ""
      ],
      "metadata": {
        "colab": {
          "base_uri": "https://localhost:8080/"
        },
        "id": "vOIg5zstgScQ",
        "outputId": "8fd83f69-3b25-4cfb-c84f-aace37f0082e"
      },
      "execution_count": 15,
      "outputs": [
        {
          "output_type": "stream",
          "name": "stdout",
          "text": [
            "**** \n",
            "*   *\n",
            "*   *\n",
            "*   *\n",
            "*   *\n",
            "*   *\n",
            "**** \n"
          ]
        }
      ]
    },
    {
      "cell_type": "code",
      "source": [
        "for row in range (7):\n",
        "  for col in range (5):\n",
        "    if col==0 or ((row==0 or row==3 or row==6)and (col>0)) :\n",
        "      print(\"*\",end=\"\")\n",
        "    else:\n",
        "      print(end=\" \")\n",
        "  print()"
      ],
      "metadata": {
        "colab": {
          "base_uri": "https://localhost:8080/"
        },
        "id": "YUvS-STcgRnv",
        "outputId": "be03f4b7-d896-44eb-f01f-83cec9aca2e1"
      },
      "execution_count": 16,
      "outputs": [
        {
          "output_type": "stream",
          "name": "stdout",
          "text": [
            "*****\n",
            "*    \n",
            "*    \n",
            "*****\n",
            "*    \n",
            "*    \n",
            "*****\n"
          ]
        }
      ]
    },
    {
      "cell_type": "code",
      "source": [
        "for row in range (7):\n",
        "  for col in range (5):\n",
        "    if col==0 or ((row==0 or row==3)and (col>0)) :\n",
        "      print(\"*\",end=\"\")\n",
        "    else:\n",
        "      print(end=\" \")\n",
        "  print()\n",
        ""
      ],
      "metadata": {
        "colab": {
          "base_uri": "https://localhost:8080/"
        },
        "id": "MbPLV8xmgRq7",
        "outputId": "9ac14eef-a5c9-4c46-b59f-7f1b0690ed6b"
      },
      "execution_count": 17,
      "outputs": [
        {
          "output_type": "stream",
          "name": "stdout",
          "text": [
            "*****\n",
            "*    \n",
            "*    \n",
            "*****\n",
            "*    \n",
            "*    \n",
            "*    \n"
          ]
        }
      ]
    },
    {
      "cell_type": "code",
      "source": [
        "for row in range(7):\n",
        "  for col in range(6):\n",
        "    if col==0 or (col==4 and(row!=1 and row!=2))or ((row==0 or row==6)and(col>0 and col<4))or (row==3 and (col==3 or col==5)) :\n",
        "      print(\"*\",end=\"\")\n",
        "    else:\n",
        "      print(end=\" \")\n",
        "  print()"
      ],
      "metadata": {
        "colab": {
          "base_uri": "https://localhost:8080/"
        },
        "id": "6AO0oXIQgRtw",
        "outputId": "241ae86e-6d6b-438f-d6c0-c744f927bee5"
      },
      "execution_count": 18,
      "outputs": [
        {
          "output_type": "stream",
          "name": "stdout",
          "text": [
            "***** \n",
            "*     \n",
            "*     \n",
            "*  ***\n",
            "*   * \n",
            "*   * \n",
            "***** \n"
          ]
        }
      ]
    },
    {
      "cell_type": "code",
      "source": [
        "for row in range(7):\n",
        "  for col in range(5):\n",
        "    if col==0 or col==4 or ((row==3)and(col>0 and col<4)) :\n",
        "      print(\"*\",end=\"\")\n",
        "    else:\n",
        "      print(end=\" \")\n",
        "  print()\n",
        ""
      ],
      "metadata": {
        "colab": {
          "base_uri": "https://localhost:8080/"
        },
        "id": "kFyjAGSygRw0",
        "outputId": "4eb205f4-7d3c-435a-8d04-3a8b2e417fec"
      },
      "execution_count": 19,
      "outputs": [
        {
          "output_type": "stream",
          "name": "stdout",
          "text": [
            "*   *\n",
            "*   *\n",
            "*   *\n",
            "*****\n",
            "*   *\n",
            "*   *\n",
            "*   *\n"
          ]
        }
      ]
    },
    {
      "cell_type": "code",
      "source": [
        "\n",
        "for row in range(7):\n",
        "  for col in range(5):\n",
        "    if row==0 or row==6 or(col==2 and(row!=0 or row!=6)) :\n",
        "      print(\"*\",end=\"\")\n",
        "    else:\n",
        "      print(end=\" \")\n",
        "  print()"
      ],
      "metadata": {
        "colab": {
          "base_uri": "https://localhost:8080/"
        },
        "id": "l7d43ypGgRzn",
        "outputId": "92220f24-91d0-4e02-faaf-5be42e5b03fb"
      },
      "execution_count": 20,
      "outputs": [
        {
          "output_type": "stream",
          "name": "stdout",
          "text": [
            "*****\n",
            "  *  \n",
            "  *  \n",
            "  *  \n",
            "  *  \n",
            "  *  \n",
            "*****\n"
          ]
        }
      ]
    },
    {
      "cell_type": "code",
      "source": [
        "\n",
        "for row in range(7):\n",
        "  for col in range(5):\n",
        "    if col==2 or (row==0 and col!=2) or (row==6 and col<2) :\n",
        "      print(\"*\",end=\"\")\n",
        "    else:\n",
        "      print(end=\" \")\n",
        "  print()"
      ],
      "metadata": {
        "colab": {
          "base_uri": "https://localhost:8080/"
        },
        "id": "FhCuYYf7grum",
        "outputId": "bbbbe7c2-7e0e-4aca-b108-ff10798a0d2c"
      },
      "execution_count": 21,
      "outputs": [
        {
          "output_type": "stream",
          "name": "stdout",
          "text": [
            "*****\n",
            "  *  \n",
            "  *  \n",
            "  *  \n",
            "  *  \n",
            "  *  \n",
            "***  \n"
          ]
        }
      ]
    },
    {
      "cell_type": "code",
      "source": [
        "i=0\n",
        "j=4\n",
        "for row in range(7):\n",
        "  for col in range(5):\n",
        "    if col==0 or (row==col+2 and col>1) :\n",
        "      print(\"*\",end=\"\")\n",
        "    elif (row==i and col==j):\n",
        "       print(\"*\",end=\"\")\n",
        "       i=i+1\n",
        "       j=j-1\n",
        "    else:\n",
        "      print(end=\" \")\n",
        "  print()"
      ],
      "metadata": {
        "colab": {
          "base_uri": "https://localhost:8080/"
        },
        "id": "hGRDvRopgryE",
        "outputId": "84b53dfc-5de9-47e3-b113-83b13eb7161a"
      },
      "execution_count": 22,
      "outputs": [
        {
          "output_type": "stream",
          "name": "stdout",
          "text": [
            "*   *\n",
            "*  * \n",
            "* *  \n",
            "**   \n",
            "* *  \n",
            "*  * \n",
            "*   *\n"
          ]
        }
      ]
    },
    {
      "cell_type": "code",
      "source": [
        "for row in range(7):\n",
        "  for col in range(5):\n",
        "    if col==0 or (row==6 and col>0)  :\n",
        "      print(\"*\",end=\" \")\n",
        "    else:\n",
        "      print(end=\" \")\n",
        "  print()\n",
        ""
      ],
      "metadata": {
        "colab": {
          "base_uri": "https://localhost:8080/"
        },
        "id": "DwPcttQlgR2g",
        "outputId": "2801d148-f6e9-4bda-b59c-67a40c96b3c1"
      },
      "execution_count": 23,
      "outputs": [
        {
          "output_type": "stream",
          "name": "stdout",
          "text": [
            "*     \n",
            "*     \n",
            "*     \n",
            "*     \n",
            "*     \n",
            "*     \n",
            "* * * * * \n"
          ]
        }
      ]
    },
    {
      "cell_type": "code",
      "source": [
        "for row in range(7):\n",
        "  for col in range(7):\n",
        "    if col==0 or col==6 or(row==col and col<4) or (row==1 and col==5) or(row==2 and col==4):\n",
        "      print(\"*\",end=\"\")\n",
        "    else:\n",
        "      print(end=\" \")\n",
        "  print()"
      ],
      "metadata": {
        "colab": {
          "base_uri": "https://localhost:8080/"
        },
        "id": "IzgS93D2gR5G",
        "outputId": "b9710f78-5abc-4f9f-da74-0d4ee0300b8e"
      },
      "execution_count": 24,
      "outputs": [
        {
          "output_type": "stream",
          "name": "stdout",
          "text": [
            "*     *\n",
            "**   **\n",
            "* * * *\n",
            "*  *  *\n",
            "*     *\n",
            "*     *\n",
            "*     *\n"
          ]
        }
      ]
    },
    {
      "cell_type": "code",
      "source": [
        "\n",
        "for row in range(7):\n",
        "  for col in range(7):\n",
        "    if col==0 or col==6 or(row==col and (col<6 and col>0)):\n",
        "      print(\"*\",end=\"\")\n",
        "    else:\n",
        "      print(end=\" \")\n",
        "  print()"
      ],
      "metadata": {
        "colab": {
          "base_uri": "https://localhost:8080/"
        },
        "id": "VjQAdwqVgR7l",
        "outputId": "7186eee3-6dae-4612-f0c2-172776389c6b"
      },
      "execution_count": 25,
      "outputs": [
        {
          "output_type": "stream",
          "name": "stdout",
          "text": [
            "*     *\n",
            "**    *\n",
            "* *   *\n",
            "*  *  *\n",
            "*   * *\n",
            "*    **\n",
            "*     *\n"
          ]
        }
      ]
    },
    {
      "cell_type": "code",
      "source": [
        "\n",
        "for row in range(7):\n",
        "  for col in range(5):\n",
        "    if ((col==0 or col==4)and (row!=0 and row!=6))or ((row==0 or row==6) and(col>0 and col<4)):\n",
        "      print(\"*\",end=\"\")\n",
        "    else:\n",
        "      print(end=\" \")\n",
        "  print()"
      ],
      "metadata": {
        "colab": {
          "base_uri": "https://localhost:8080/"
        },
        "id": "iYBTkjqggR_H",
        "outputId": "a6953e40-c38d-4d30-f637-792de57c3264"
      },
      "execution_count": 26,
      "outputs": [
        {
          "output_type": "stream",
          "name": "stdout",
          "text": [
            " *** \n",
            "*   *\n",
            "*   *\n",
            "*   *\n",
            "*   *\n",
            "*   *\n",
            " *** \n"
          ]
        }
      ]
    },
    {
      "cell_type": "code",
      "source": [
        "\n",
        "for row in range(7):\n",
        "  for col in range(5):\n",
        "    if col==0 or (col==4 and(row==1 or row==2))or((row==0 or row==3) and(col>0 and col<4))  :\n",
        "      print(\"*\",end=\"\")\n",
        "    else:\n",
        "      print(end=\" \")\n",
        "  print()"
      ],
      "metadata": {
        "colab": {
          "base_uri": "https://localhost:8080/"
        },
        "id": "yH0hxblgg-gG",
        "outputId": "fa25f0c5-ab26-4e21-ae47-fbb50db16cb9"
      },
      "execution_count": 27,
      "outputs": [
        {
          "output_type": "stream",
          "name": "stdout",
          "text": [
            "**** \n",
            "*   *\n",
            "*   *\n",
            "**** \n",
            "*    \n",
            "*    \n",
            "*    \n"
          ]
        }
      ]
    },
    {
      "cell_type": "code",
      "source": [
        "for row in range(8):\n",
        "  for col in range(5):\n",
        "    if ((col==0 or col==4) and(row>0 and row<6))or ((row==0 or row==6)and(col>0 and col<4)) or (row==5 and col==1)or (row==7 and col==3) :\n",
        "      print(\"*\",end=\"\")\n",
        "    else:\n",
        "      print(end=\" \")\n",
        "  print()"
      ],
      "metadata": {
        "colab": {
          "base_uri": "https://localhost:8080/"
        },
        "id": "QY2lKfYDg-jD",
        "outputId": "5576d387-46d7-4d95-8bfc-60053918d15c"
      },
      "execution_count": 28,
      "outputs": [
        {
          "output_type": "stream",
          "name": "stdout",
          "text": [
            " *** \n",
            "*   *\n",
            "*   *\n",
            "*   *\n",
            "*   *\n",
            "**  *\n",
            " *** \n",
            "   * \n"
          ]
        }
      ]
    },
    {
      "cell_type": "code",
      "source": [
        "for row in range(7):\n",
        "  for col in range(5):\n",
        "    if col==0 or (col==4 and(row==1 or row==2))or((row==0 or row==3) and(col>0 and col<4)) or (row>3 and col==4) :\n",
        "      print(\"*\",end=\"\")\n",
        "    else:\n",
        "      print(end=\" \")\n",
        "  print()"
      ],
      "metadata": {
        "colab": {
          "base_uri": "https://localhost:8080/"
        },
        "id": "pfWO-wFyg-mt",
        "outputId": "3ed07344-6c19-4c72-fefa-99c67861b194"
      },
      "execution_count": 29,
      "outputs": [
        {
          "output_type": "stream",
          "name": "stdout",
          "text": [
            "**** \n",
            "*   *\n",
            "*   *\n",
            "**** \n",
            "*   *\n",
            "*   *\n",
            "*   *\n"
          ]
        }
      ]
    },
    {
      "cell_type": "code",
      "source": [
        "for row in range(7):\n",
        "  for col in range(5):\n",
        "    if ((row==0 or row==3 or row==6) and(col>0 and col<4))or(col==0 and(row>0 and row<3))or (col==4 and(row>3 and row<6)) :\n",
        "      print(\"*\",end=\"\")\n",
        "    else:\n",
        "      print(end=\" \")\n",
        "  print()"
      ],
      "metadata": {
        "colab": {
          "base_uri": "https://localhost:8080/"
        },
        "id": "05Eeor2zgAz4",
        "outputId": "a02fcb08-0443-418e-e034-1b6c07077764"
      },
      "execution_count": 30,
      "outputs": [
        {
          "output_type": "stream",
          "name": "stdout",
          "text": [
            " *** \n",
            "*    \n",
            "*    \n",
            " *** \n",
            "    *\n",
            "    *\n",
            " *** \n"
          ]
        }
      ]
    },
    {
      "cell_type": "code",
      "source": [
        "for row in range(7):\n",
        "  for col in range(5):\n",
        "    if row==0 or (col==4 and row>0) :\n",
        "      print(\"*\",end=\" \")\n",
        "    else:\n",
        "      print(end=\" \")\n",
        "  print()"
      ],
      "metadata": {
        "colab": {
          "base_uri": "https://localhost:8080/"
        },
        "id": "04yztlg_oaxR",
        "outputId": "5cca3afc-4990-4aa2-ff3d-077889198a11"
      },
      "execution_count": 31,
      "outputs": [
        {
          "output_type": "stream",
          "name": "stdout",
          "text": [
            "* * * * * \n",
            "    * \n",
            "    * \n",
            "    * \n",
            "    * \n",
            "    * \n",
            "    * \n"
          ]
        }
      ]
    },
    {
      "cell_type": "code",
      "source": [
        "for row in range(7):\n",
        "  for col in range(5):\n",
        "    if ((col==0 or col==4 )and (row!=6))or ((row==6) and (col>0 and col<4)) :\n",
        "      print(\"*\",end=\"\")\n",
        "    else:\n",
        "      print(end=\" \")\n",
        "  print()"
      ],
      "metadata": {
        "colab": {
          "base_uri": "https://localhost:8080/"
        },
        "id": "_sKrgO3Voaz5",
        "outputId": "ba677251-c345-46c4-aa4c-767ddbe184b3"
      },
      "execution_count": 32,
      "outputs": [
        {
          "output_type": "stream",
          "name": "stdout",
          "text": [
            "*   *\n",
            "*   *\n",
            "*   *\n",
            "*   *\n",
            "*   *\n",
            "*   *\n",
            " *** \n"
          ]
        }
      ]
    },
    {
      "cell_type": "code",
      "source": [
        "i=0\n",
        "j=6\n",
        "for row in range(4):\n",
        "  for col in range(7):\n",
        "    if row==col :\n",
        "      print(\"*\",end=\"\")\n",
        "    elif row==i and col==j :\n",
        "      print(\"*\",end=\"\")\n",
        "      i=i+1\n",
        "      j=j-1\n",
        "    else:\n",
        "      print(end=\" \")\n",
        "  print()"
      ],
      "metadata": {
        "colab": {
          "base_uri": "https://localhost:8080/"
        },
        "id": "xyh0kpo-oa2p",
        "outputId": "ea5cfbef-1e15-49d8-b201-e86e3e57e94f"
      },
      "execution_count": 33,
      "outputs": [
        {
          "output_type": "stream",
          "name": "stdout",
          "text": [
            "*     *\n",
            " *   * \n",
            "  * *  \n",
            "   *   \n"
          ]
        }
      ]
    },
    {
      "cell_type": "code",
      "source": [
        "i=0\n",
        "j=3\n",
        "for row in range(4):\n",
        "  for col in range(7):\n",
        "    if col==0 or col==6 or (row==2 and col==5)or (row==1 and col==4):\n",
        "      print(\"*\",end=\"\")\n",
        "    elif row==i and col==j:\n",
        "      print(\"*\",end=\"\")\n",
        "      i=i+1\n",
        "      j=j-1\n",
        "    else:\n",
        "      print(end=\" \")\n",
        "  print()"
      ],
      "metadata": {
        "colab": {
          "base_uri": "https://localhost:8080/"
        },
        "id": "KwgUhS8qoa5M",
        "outputId": "600f5a5f-7033-4e17-d857-2a20c43aa537"
      },
      "execution_count": 34,
      "outputs": [
        {
          "output_type": "stream",
          "name": "stdout",
          "text": [
            "*  *  *\n",
            "* * * *\n",
            "**   **\n",
            "*     *\n"
          ]
        }
      ]
    },
    {
      "cell_type": "code",
      "source": [
        "i=0\n",
        "j=4\n",
        "for row in range(5):\n",
        "  for col in range(5):\n",
        "    if row==i and col==j :\n",
        "      print(\"*\",end=\"\")\n",
        "      i=i+1\n",
        "      j=j-1\n",
        "    elif row==col:\n",
        "      print(\"*\",end=\"\")\n",
        "\n",
        "    else:\n",
        "      print(end=\" \")\n",
        "  print()"
      ],
      "metadata": {
        "colab": {
          "base_uri": "https://localhost:8080/"
        },
        "id": "hEyLu-U9oa78",
        "outputId": "21e57d9e-b188-42d7-c320-71b174db812f"
      },
      "execution_count": 35,
      "outputs": [
        {
          "output_type": "stream",
          "name": "stdout",
          "text": [
            "*   *\n",
            " * * \n",
            "  *  \n",
            " * * \n",
            "*   *\n"
          ]
        }
      ]
    },
    {
      "cell_type": "code",
      "source": [
        "i=0\n",
        "j=4\n",
        "for row in range(5):\n",
        "  for col in range(5):\n",
        "    if (col==2 and row>1) or (row==col and col<2)or (row==0 and col==4)or (row==1 and col==3) :\n",
        "      print(\"*\",end=\"\")\n",
        "    else:\n",
        "      print(end=\" \")\n",
        "  print()"
      ],
      "metadata": {
        "colab": {
          "base_uri": "https://localhost:8080/"
        },
        "id": "isNeGmXpoa_V",
        "outputId": "82783b85-de48-4eef-ade8-97d2c9c37316"
      },
      "execution_count": 36,
      "outputs": [
        {
          "output_type": "stream",
          "name": "stdout",
          "text": [
            "*   *\n",
            " * * \n",
            "  *  \n",
            "  *  \n",
            "  *  \n"
          ]
        }
      ]
    },
    {
      "cell_type": "code",
      "source": [
        "i=1\n",
        "j=3\n",
        "for row in range(5):\n",
        "  for col in range(5):\n",
        "    if (row==0 or row==4)  :\n",
        "      print(\"*\",end=\"\")\n",
        "    elif row==i and col==j :\n",
        "      print(\"*\",end=\" \")\n",
        "      i=i+1\n",
        "      j=j-1\n",
        "    else:\n",
        "      print(end=\" \")\n",
        "  print()"
      ],
      "metadata": {
        "colab": {
          "base_uri": "https://localhost:8080/"
        },
        "id": "W9iS-rOTcJR0",
        "outputId": "db0b747f-91bf-4096-c48f-b2b01c08db56"
      },
      "execution_count": 37,
      "outputs": [
        {
          "output_type": "stream",
          "name": "stdout",
          "text": [
            "*****\n",
            "   *  \n",
            "  *   \n",
            " *    \n",
            "*****\n"
          ]
        }
      ]
    },
    {
      "cell_type": "code",
      "source": [],
      "metadata": {
        "id": "b0XCweaKcJUv"
      },
      "execution_count": 37,
      "outputs": []
    },
    {
      "cell_type": "code",
      "source": [],
      "metadata": {
        "id": "T3C2HzsgcJXj"
      },
      "execution_count": 37,
      "outputs": []
    },
    {
      "cell_type": "code",
      "source": [],
      "metadata": {
        "id": "F_RWvDU5cJa7"
      },
      "execution_count": 37,
      "outputs": []
    }
  ]
}