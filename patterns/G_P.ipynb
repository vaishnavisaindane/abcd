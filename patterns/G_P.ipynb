{
  "nbformat": 4,
  "nbformat_minor": 0,
  "metadata": {
    "colab": {
      "provenance": []
    },
    "kernelspec": {
      "name": "python3",
      "display_name": "Python 3"
    },
    "language_info": {
      "name": "python"
    }
  },
  "cells": [
    {
      "cell_type": "code",
      "execution_count": 10,
      "metadata": {
        "colab": {
          "base_uri": "https://localhost:8080/"
        },
        "id": "8YJpHzOit1Fu",
        "outputId": "40af9873-1854-477b-d1ee-043b77b3b9d2"
      },
      "outputs": [
        {
          "output_type": "stream",
          "name": "stdout",
          "text": [
            "***** \n",
            "*     \n",
            "*     \n",
            "*  ***\n",
            "*   * \n",
            "*   * \n",
            "***** \n"
          ]
        }
      ],
      "source": [
        "for row in range(7):\n",
        "  for col in range(6):\n",
        "    if col==0 or (col==4 and(row!=1 and row!=2))or ((row==0 or row==6)and(col>0 and col<4))or (row==3 and (col==3 or col==5)) :\n",
        "      print(\"*\",end=\"\")\n",
        "    else:\n",
        "      print(end=\" \")\n",
        "  print()"
      ]
    },
    {
      "cell_type": "code",
      "source": [
        "for row in range(7):\n",
        "  for col in range(5):\n",
        "    if col==0 or col==4 or ((row==3)and(col>0 and col<4)) :\n",
        "      print(\"*\",end=\"\")\n",
        "    else:\n",
        "      print(end=\" \")\n",
        "  print()"
      ],
      "metadata": {
        "colab": {
          "base_uri": "https://localhost:8080/"
        },
        "id": "nxgZRxT9uJFZ",
        "outputId": "956639e0-f87f-4b16-b029-d00d4bd3058d"
      },
      "execution_count": 11,
      "outputs": [
        {
          "output_type": "stream",
          "name": "stdout",
          "text": [
            "*   *\n",
            "*   *\n",
            "*   *\n",
            "*****\n",
            "*   *\n",
            "*   *\n",
            "*   *\n"
          ]
        }
      ]
    },
    {
      "cell_type": "code",
      "source": [
        "for row in range(7):\n",
        "  for col in range(5):\n",
        "    if row==0 or row==6 or(col==2 and(row!=0 or row!=6)) :\n",
        "      print(\"*\",end=\"\")\n",
        "    else:\n",
        "      print(end=\" \")\n",
        "  print()"
      ],
      "metadata": {
        "colab": {
          "base_uri": "https://localhost:8080/"
        },
        "id": "pGT1RKvguJIX",
        "outputId": "955428c1-8b1b-42a2-c8b3-4cada08e5a2d"
      },
      "execution_count": 14,
      "outputs": [
        {
          "output_type": "stream",
          "name": "stdout",
          "text": [
            "*****\n",
            "  *  \n",
            "  *  \n",
            "  *  \n",
            "  *  \n",
            "  *  \n",
            "*****\n"
          ]
        }
      ]
    },
    {
      "cell_type": "code",
      "source": [
        "for row in range(7):\n",
        "  for col in range(5):\n",
        "    if col==2 or (row==0 and col!=2) or (row==6 and col<2) :\n",
        "      print(\"*\",end=\"\")\n",
        "    else:\n",
        "      print(end=\" \")\n",
        "  print()"
      ],
      "metadata": {
        "colab": {
          "base_uri": "https://localhost:8080/"
        },
        "id": "ba1ErNstuJLC",
        "outputId": "4638316e-054c-46f9-dd14-63d56b114ad2"
      },
      "execution_count": 20,
      "outputs": [
        {
          "output_type": "stream",
          "name": "stdout",
          "text": [
            "*****\n",
            "  *  \n",
            "  *  \n",
            "  *  \n",
            "  *  \n",
            "  *  \n",
            "***  \n"
          ]
        }
      ]
    },
    {
      "cell_type": "code",
      "source": [
        "i=0\n",
        "j=4\n",
        "for row in range(7):\n",
        "  for col in range(5):\n",
        "    if col==0 or (row==col+2 and col>1) :\n",
        "      print(\"*\",end=\"\")\n",
        "    elif (row==i and col==j):\n",
        "       print(\"*\",end=\"\")\n",
        "       i=i+1\n",
        "       j=j-1\n",
        "    else:\n",
        "      print(end=\" \")\n",
        "  print()"
      ],
      "metadata": {
        "colab": {
          "base_uri": "https://localhost:8080/"
        },
        "id": "_tl84oyjuJOk",
        "outputId": "30deb380-94b3-4b64-a3f5-633543fe2b72"
      },
      "execution_count": 24,
      "outputs": [
        {
          "output_type": "stream",
          "name": "stdout",
          "text": [
            "*   *\n",
            "*  * \n",
            "* *  \n",
            "**   \n",
            "* *  \n",
            "*  * \n",
            "*   *\n"
          ]
        }
      ]
    },
    {
      "cell_type": "code",
      "source": [
        "for row in range(7):\n",
        "  for col in range(5):\n",
        "    if col==0 or (row==6 and col>0)  :\n",
        "      print(\"*\",end=\" \")\n",
        "    else:\n",
        "      print(end=\" \")\n",
        "  print()"
      ],
      "metadata": {
        "colab": {
          "base_uri": "https://localhost:8080/"
        },
        "id": "lXQcTgwJKyKW",
        "outputId": "7dbd99c6-c3e8-4b13-edf6-587891f28c73"
      },
      "execution_count": 26,
      "outputs": [
        {
          "output_type": "stream",
          "name": "stdout",
          "text": [
            "*     \n",
            "*     \n",
            "*     \n",
            "*     \n",
            "*     \n",
            "*     \n",
            "* * * * * \n"
          ]
        }
      ]
    },
    {
      "cell_type": "code",
      "source": [
        "for row in range(7):\n",
        "  for col in range(7):\n",
        "    if col==0 or col==6 or(row==col and col<4) or (row==1 and col==5) or(row==2 and col==4):\n",
        "      print(\"*\",end=\"\")\n",
        "    else:\n",
        "      print(end=\" \")\n",
        "  print()"
      ],
      "metadata": {
        "colab": {
          "base_uri": "https://localhost:8080/"
        },
        "id": "aTDiCx6aKyNm",
        "outputId": "c96f30a3-27bf-4ce3-eec0-a7684c36ae4d"
      },
      "execution_count": 38,
      "outputs": [
        {
          "output_type": "stream",
          "name": "stdout",
          "text": [
            "*     *\n",
            "**   **\n",
            "* * * *\n",
            "*  *  *\n",
            "*     *\n",
            "*     *\n",
            "*     *\n"
          ]
        }
      ]
    },
    {
      "cell_type": "code",
      "source": [
        "for row in range(7):\n",
        "  for col in range(7):\n",
        "    if col==0 or col==6 or(row==col and (col<6 and col>0)):\n",
        "      print(\"*\",end=\"\")\n",
        "    else:\n",
        "      print(end=\" \")\n",
        "  print()"
      ],
      "metadata": {
        "colab": {
          "base_uri": "https://localhost:8080/"
        },
        "id": "mCq5z0QfKyQS",
        "outputId": "f201e512-465d-4602-c1de-8beb6d6be398"
      },
      "execution_count": 39,
      "outputs": [
        {
          "output_type": "stream",
          "name": "stdout",
          "text": [
            "*     *\n",
            "**    *\n",
            "* *   *\n",
            "*  *  *\n",
            "*   * *\n",
            "*    **\n",
            "*     *\n"
          ]
        }
      ]
    },
    {
      "cell_type": "code",
      "source": [
        "for row in range(7):\n",
        "  for col in range(5):\n",
        "    if ((col==0 or col==4)and (row!=0 and row!=6))or ((row==0 or row==6) and(col>0 and col<4)):\n",
        "      print(\"*\",end=\"\")\n",
        "    else:\n",
        "      print(end=\" \")\n",
        "  print()"
      ],
      "metadata": {
        "colab": {
          "base_uri": "https://localhost:8080/"
        },
        "id": "i117TRc0KyT5",
        "outputId": "b7a0fb7a-0aa0-4e23-9f1e-fd1e2d32675f"
      },
      "execution_count": 62,
      "outputs": [
        {
          "output_type": "stream",
          "name": "stdout",
          "text": [
            " *** \n",
            "*   *\n",
            "*   *\n",
            "*   *\n",
            "*   *\n",
            "*   *\n",
            " *** \n"
          ]
        }
      ]
    },
    {
      "cell_type": "code",
      "source": [
        "for row in range(7):\n",
        "  for col in range(5):\n",
        "    if col==0 or (col==4 and(row==1 or row==2))or((row==0 or row==3) and(col>0 and col<4))  :\n",
        "      print(\"*\",end=\"\")\n",
        "    else:\n",
        "      print(end=\" \")\n",
        "  print()"
      ],
      "metadata": {
        "colab": {
          "base_uri": "https://localhost:8080/"
        },
        "id": "SH_xvb1HUs65",
        "outputId": "92f98e32-89c6-43d6-8901-1c303e8a266c"
      },
      "execution_count": 74,
      "outputs": [
        {
          "output_type": "stream",
          "name": "stdout",
          "text": [
            "**** \n",
            "*   *\n",
            "*   *\n",
            "**** \n",
            "*    \n",
            "*    \n",
            "*    \n"
          ]
        }
      ]
    },
    {
      "cell_type": "code",
      "source": [],
      "metadata": {
        "id": "QYST6gYaUtAG"
      },
      "execution_count": null,
      "outputs": []
    },
    {
      "cell_type": "code",
      "source": [],
      "metadata": {
        "id": "dgwuycpPUtC5"
      },
      "execution_count": null,
      "outputs": []
    },
    {
      "cell_type": "code",
      "source": [],
      "metadata": {
        "id": "6tqyJHZsUtFy"
      },
      "execution_count": null,
      "outputs": []
    },
    {
      "cell_type": "code",
      "source": [],
      "metadata": {
        "id": "5cxEygulUtJH"
      },
      "execution_count": null,
      "outputs": []
    }
  ]
}