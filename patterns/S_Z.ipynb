{
  "nbformat": 4,
  "nbformat_minor": 0,
  "metadata": {
    "colab": {
      "provenance": []
    },
    "kernelspec": {
      "name": "python3",
      "display_name": "Python 3"
    },
    "language_info": {
      "name": "python"
    }
  },
  "cells": [
    {
      "cell_type": "code",
      "execution_count": 7,
      "metadata": {
        "colab": {
          "base_uri": "https://localhost:8080/"
        },
        "id": "XOgRcUaWev9G",
        "outputId": "1c21d1e7-b9fc-4c0f-e613-44e8de7cfa18"
      },
      "outputs": [
        {
          "output_type": "stream",
          "name": "stdout",
          "text": [
            " *** \n",
            "*    \n",
            "*    \n",
            " *** \n",
            "    *\n",
            "    *\n",
            " *** \n"
          ]
        }
      ],
      "source": [
        "for row in range(7):\n",
        "  for col in range(5):\n",
        "    if ((row==0 or row==3 or row==6) and(col>0 and col<4))or(col==0 and(row>0 and row<3))or (col==4 and(row>3 and row<6)) :\n",
        "      print(\"*\",end=\"\")\n",
        "    else:\n",
        "      print(end=\" \")\n",
        "  print()"
      ]
    },
    {
      "cell_type": "code",
      "source": [
        "for row in range(7):\n",
        "  for col in range(5):\n",
        "    if row==0 or (col==4 and row>0) :\n",
        "      print(\"*\",end=\" \")\n",
        "    else:\n",
        "      print(end=\" \")\n",
        "  print()"
      ],
      "metadata": {
        "colab": {
          "base_uri": "https://localhost:8080/"
        },
        "id": "04yztlg_oaxR",
        "outputId": "434a7b57-4edd-49f8-d8f1-76decb5c2d54"
      },
      "execution_count": 10,
      "outputs": [
        {
          "output_type": "stream",
          "name": "stdout",
          "text": [
            "* * * * * \n",
            "    * \n",
            "    * \n",
            "    * \n",
            "    * \n",
            "    * \n",
            "    * \n"
          ]
        }
      ]
    },
    {
      "cell_type": "code",
      "source": [
        "for row in range(7):\n",
        "  for col in range(5):\n",
        "    if ((col==0 or col==4 )and (row!=6))or ((row==6) and (col>0 and col<4)) :\n",
        "      print(\"*\",end=\"\")\n",
        "    else:\n",
        "      print(end=\" \")\n",
        "  print()"
      ],
      "metadata": {
        "colab": {
          "base_uri": "https://localhost:8080/"
        },
        "id": "_sKrgO3Voaz5",
        "outputId": "fd2e4751-7c85-4b96-f50a-91795df768d0"
      },
      "execution_count": 15,
      "outputs": [
        {
          "output_type": "stream",
          "name": "stdout",
          "text": [
            "*   *\n",
            "*   *\n",
            "*   *\n",
            "*   *\n",
            "*   *\n",
            "*   *\n",
            " *** \n"
          ]
        }
      ]
    },
    {
      "cell_type": "code",
      "source": [
        "i=0\n",
        "j=6\n",
        "for row in range(4):\n",
        "  for col in range(7):\n",
        "    if row==col :\n",
        "      print(\"*\",end=\"\")\n",
        "    elif row==i and col==j :\n",
        "      print(\"*\",end=\"\")\n",
        "      i=i+1\n",
        "      j=j-1\n",
        "    else:\n",
        "      print(end=\" \")\n",
        "  print()"
      ],
      "metadata": {
        "colab": {
          "base_uri": "https://localhost:8080/"
        },
        "id": "xyh0kpo-oa2p",
        "outputId": "793b92b9-1e6d-49a5-b8b3-76a599fffe53"
      },
      "execution_count": 18,
      "outputs": [
        {
          "output_type": "stream",
          "name": "stdout",
          "text": [
            "*     *\n",
            " *   * \n",
            "  * *  \n",
            "   *   \n"
          ]
        }
      ]
    },
    {
      "cell_type": "code",
      "source": [
        "i=0\n",
        "j=3\n",
        "for row in range(4):\n",
        "  for col in range(7):\n",
        "    if col==0 or col==6 or (row==2 and col==5)or (row==1 and col==4):\n",
        "      print(\"*\",end=\"\")\n",
        "    elif row==i and col==j:\n",
        "      print(\"*\",end=\"\")\n",
        "      i=i+1\n",
        "      j=j-1\n",
        "    else:\n",
        "      print(end=\" \")\n",
        "  print()"
      ],
      "metadata": {
        "colab": {
          "base_uri": "https://localhost:8080/"
        },
        "id": "KwgUhS8qoa5M",
        "outputId": "52ef3ea6-de5f-4e04-ce29-82ae9c3ff429"
      },
      "execution_count": 26,
      "outputs": [
        {
          "output_type": "stream",
          "name": "stdout",
          "text": [
            "*  *  *\n",
            "* * * *\n",
            "**   **\n",
            "*     *\n"
          ]
        }
      ]
    },
    {
      "cell_type": "code",
      "source": [
        "i=0\n",
        "j=4\n",
        "for row in range(5):\n",
        "  for col in range(5):\n",
        "    if row==i and col==j :\n",
        "      print(\"*\",end=\"\")\n",
        "      i=i+1\n",
        "      j=j-1\n",
        "    elif row==col:\n",
        "      print(\"*\",end=\"\")\n",
        "\n",
        "    else:\n",
        "      print(end=\" \")\n",
        "  print()"
      ],
      "metadata": {
        "colab": {
          "base_uri": "https://localhost:8080/"
        },
        "id": "hEyLu-U9oa78",
        "outputId": "0b317790-6991-475e-83ab-f20486a9c347"
      },
      "execution_count": 1,
      "outputs": [
        {
          "output_type": "stream",
          "name": "stdout",
          "text": [
            "*   *\n",
            " * * \n",
            "  *  \n",
            " * * \n",
            "*   *\n"
          ]
        }
      ]
    },
    {
      "cell_type": "code",
      "source": [
        "i=0\n",
        "j=4\n",
        "for row in range(5):\n",
        "  for col in range(5):\n",
        "    if (col==2 and row>1) or (row==col and col<2)or (row==0 and col==4)or (row==1 and col==3) :\n",
        "      print(\"*\",end=\"\")\n",
        "    else:\n",
        "      print(end=\" \")\n",
        "  print()"
      ],
      "metadata": {
        "colab": {
          "base_uri": "https://localhost:8080/"
        },
        "id": "isNeGmXpoa_V",
        "outputId": "83a7569c-902b-4945-9264-69a01b04fe63"
      },
      "execution_count": 5,
      "outputs": [
        {
          "output_type": "stream",
          "name": "stdout",
          "text": [
            "*   *\n",
            " * * \n",
            "  *  \n",
            "  *  \n",
            "  *  \n"
          ]
        }
      ]
    },
    {
      "cell_type": "code",
      "source": [
        "i=1\n",
        "j=3\n",
        "for row in range(5):\n",
        "  for col in range(5):\n",
        "    if (row==0 or row==4)  :\n",
        "      print(\"*\",end=\"\")\n",
        "    elif row==i and col==j :\n",
        "      print(\"*\",end=\" \")\n",
        "      i=i+1\n",
        "      j=j-1\n",
        "    else:\n",
        "      print(end=\" \")\n",
        "  print()"
      ],
      "metadata": {
        "colab": {
          "base_uri": "https://localhost:8080/"
        },
        "id": "W9iS-rOTcJR0",
        "outputId": "70033b73-e980-499b-b380-5082c7eed9d9"
      },
      "execution_count": 11,
      "outputs": [
        {
          "output_type": "stream",
          "name": "stdout",
          "text": [
            "*****\n",
            "   *  \n",
            "  *   \n",
            " *    \n",
            "*****\n"
          ]
        }
      ]
    },
    {
      "cell_type": "code",
      "source": [],
      "metadata": {
        "id": "b0XCweaKcJUv"
      },
      "execution_count": null,
      "outputs": []
    },
    {
      "cell_type": "code",
      "source": [],
      "metadata": {
        "id": "T3C2HzsgcJXj"
      },
      "execution_count": null,
      "outputs": []
    },
    {
      "cell_type": "code",
      "source": [],
      "metadata": {
        "id": "F_RWvDU5cJa7"
      },
      "execution_count": null,
      "outputs": []
    }
  ]
}