{
  "nbformat": 4,
  "nbformat_minor": 0,
  "metadata": {
    "colab": {
      "provenance": []
    },
    "kernelspec": {
      "name": "python3",
      "display_name": "Python 3"
    },
    "language_info": {
      "name": "python"
    }
  },
  "cells": [
    {
      "cell_type": "code",
      "execution_count": 4,
      "metadata": {
        "colab": {
          "base_uri": "https://localhost:8080/"
        },
        "id": "LOxrfsqMN6Q0",
        "outputId": "41c494fb-a7a1-44f0-9714-ed97068ab68b"
      },
      "outputs": [
        {
          "output_type": "stream",
          "name": "stdout",
          "text": [
            " *** \n",
            "*   *\n",
            "*   *\n",
            "*****\n",
            "*   *\n",
            "*   *\n",
            "*   *\n"
          ]
        }
      ],
      "source": [
        "for row in range (7):\n",
        "  for col in range (5):\n",
        "    if (col==0 or col==4)and(row!=0) or(row==0 or row==3)and(col>0 and col<4):\n",
        "      print(\"*\",end=\"\")\n",
        "    else:\n",
        "      print(end=\" \")\n",
        "  print()"
      ]
    },
    {
      "cell_type": "code",
      "source": [
        "row = int(input(\"Enter number of rows greater than 5: \"))\n",
        "col = int(input(\"Enter number of columns greater than 3: \"))\n",
        "\n",
        "# Ensure the user inputs correct values for rows and columns\n",
        "while row <= 5 or col <= 3:\n",
        "    print(\"Rows must be greater than 5 and columns must be greater than 3.\")\n",
        "    row = int(input(\"Enter number of rows greater than 5: \"))\n",
        "    col = int(input(\"Enter number of columns greater than 3: \"))\n",
        "\n",
        "# Print the pattern\n",
        "for r in range (row):\n",
        "    for c in range (col):\n",
        "      if (c==0 or c==col-1)and (r!=0)or (r==0 or r==3)and (c>0 and c<col-1):\n",
        "        print(\"*\",end=\"\")\n",
        "      else:\n",
        "        print(end=\" \")\n",
        "    print()"
      ],
      "metadata": {
        "colab": {
          "base_uri": "https://localhost:8080/"
        },
        "id": "fAJGLj4ZUxYm",
        "outputId": "d51829fe-5783-4df1-d5f7-79d12f6f0d32"
      },
      "execution_count": 12,
      "outputs": [
        {
          "output_type": "stream",
          "name": "stdout",
          "text": [
            "Enter number of rows greater than 5: 6\n",
            "Enter number of columns greater than 3: 7\n",
            " ***** \n",
            "*     *\n",
            "*     *\n",
            "*******\n",
            "*     *\n",
            "*     *\n"
          ]
        }
      ]
    },
    {
      "cell_type": "code",
      "source": [],
      "metadata": {
        "id": "kNL9UcFGUxbi"
      },
      "execution_count": null,
      "outputs": []
    },
    {
      "cell_type": "code",
      "source": [],
      "metadata": {
        "id": "gEjel8yAUxeV"
      },
      "execution_count": null,
      "outputs": []
    },
    {
      "cell_type": "code",
      "source": [],
      "metadata": {
        "id": "5FCl-qrrUxhG"
      },
      "execution_count": null,
      "outputs": []
    },
    {
      "cell_type": "code",
      "source": [],
      "metadata": {
        "id": "7SgACgVpUxkJ"
      },
      "execution_count": null,
      "outputs": []
    },
    {
      "cell_type": "code",
      "source": [],
      "metadata": {
        "id": "CrMi9NCjUxnR"
      },
      "execution_count": null,
      "outputs": []
    },
    {
      "cell_type": "code",
      "source": [],
      "metadata": {
        "id": "xSxOV0hFUxqW"
      },
      "execution_count": null,
      "outputs": []
    }
  ]
}