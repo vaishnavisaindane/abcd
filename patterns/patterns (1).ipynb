{
  "nbformat": 4,
  "nbformat_minor": 0,
  "metadata": {
    "colab": {
      "provenance": []
    },
    "kernelspec": {
      "name": "python3",
      "display_name": "Python 3"
    },
    "language_info": {
      "name": "python"
    }
  },
  "cells": [
    {
      "cell_type": "code",
      "execution_count": null,
      "metadata": {
        "colab": {
          "base_uri": "https://localhost:8080/"
        },
        "id": "tUvg-gKKB19p",
        "outputId": "614641a1-f3f7-4ae3-85ba-1daac575a769"
      },
      "outputs": [
        {
          "output_type": "stream",
          "name": "stdout",
          "text": [
            "enter the number of rows 5\n",
            "* \n",
            "* * \n",
            "* * * \n",
            "* * * * \n",
            "* * * * * \n"
          ]
        }
      ],
      "source": [
        "num =int(input(\"enter the number of rows \"))\n",
        "for i in range(1,num+1):\n",
        "    for j in range (1,i+1):\n",
        "        print(\"*\",end=\" \")\n",
        "    print()"
      ]
    },
    {
      "cell_type": "code",
      "source": [
        "num =int(input(\"enter the number of rows \"))\n",
        "k=1\n",
        "for i in range(1,num+1):\n",
        "    for j in range (1,k+1):\n",
        "        print(\"*\",end=\" \")\n",
        "    k=k+2\n",
        "    print()"
      ],
      "metadata": {
        "colab": {
          "base_uri": "https://localhost:8080/"
        },
        "id": "W_t2Mb47B5yj",
        "outputId": "472a07a6-c266-4ac0-d07d-46bdd7f0e4bf"
      },
      "execution_count": null,
      "outputs": [
        {
          "output_type": "stream",
          "name": "stdout",
          "text": [
            "enter the number of rows 5\n",
            "* \n",
            "* * * \n",
            "* * * * * \n",
            "* * * * * * * \n",
            "* * * * * * * * * \n"
          ]
        }
      ]
    },
    {
      "cell_type": "code",
      "source": [
        "num =int(input(\"enter the number of rows \"))\n",
        "for i in range(0,num):\n",
        "    for j in range (0,num-i-1):\n",
        "        print(\"*\",end=\" \")\n",
        "    print()"
      ],
      "metadata": {
        "colab": {
          "base_uri": "https://localhost:8080/"
        },
        "id": "yD0yQSBTB51h",
        "outputId": "50e752b8-528a-4be0-90ba-f77f4ba404a7"
      },
      "execution_count": 12,
      "outputs": [
        {
          "output_type": "stream",
          "name": "stdout",
          "text": [
            "enter the number of rows 3\n",
            "* * \n",
            "* \n",
            "\n"
          ]
        }
      ]
    },
    {
      "cell_type": "code",
      "source": [
        "num = int(input(\"Enter the number of rows: \"))\n",
        "for i in range(num):\n",
        "    for j in range(i + 1):\n",
        "        print(\"*\", end=\" \")\n",
        "    print()\n"
      ],
      "metadata": {
        "id": "K3Unvd1PB54Y",
        "colab": {
          "base_uri": "https://localhost:8080/"
        },
        "outputId": "c3e236b1-f53b-4b12-e070-967aa6206387"
      },
      "execution_count": 13,
      "outputs": [
        {
          "output_type": "stream",
          "name": "stdout",
          "text": [
            "Enter the number of rows: 3\n",
            "* \n",
            "* * \n",
            "* * * \n"
          ]
        }
      ]
    },
    {
      "cell_type": "code",
      "source": [
        "num = int(input(\"Enter the number of rows: \"))\n",
        "for i in range(num):\n",
        "    for j in range(num-i):\n",
        "        print(\"*\", end=\" \")\n",
        "    print()"
      ],
      "metadata": {
        "id": "yfc-uiMDB57I",
        "colab": {
          "base_uri": "https://localhost:8080/"
        },
        "outputId": "fff524ae-df8c-4537-a99b-cd095ecd7566"
      },
      "execution_count": 15,
      "outputs": [
        {
          "output_type": "stream",
          "name": "stdout",
          "text": [
            "Enter the number of rows: 3\n",
            "* * * \n",
            "* * \n",
            "* \n"
          ]
        }
      ]
    },
    {
      "cell_type": "code",
      "source": [
        "num = int(input(\"Enter the number of rows: \"))\n",
        "for i in range(num):\n",
        "    for j in range(num-i):\n",
        "        print(end=\" \")\n",
        "    for j in range(i+1):\n",
        "      print(\"*\",end=\" \")\n",
        "    print()"
      ],
      "metadata": {
        "id": "uXsjJPZwB598",
        "colab": {
          "base_uri": "https://localhost:8080/"
        },
        "outputId": "b6c9be39-e143-4d28-a9ee-f75b830ef06c"
      },
      "execution_count": 24,
      "outputs": [
        {
          "output_type": "stream",
          "name": "stdout",
          "text": [
            "Enter the number of rows: 5\n",
            "     * \n",
            "    * * \n",
            "   * * * \n",
            "  * * * * \n",
            " * * * * * \n"
          ]
        }
      ]
    },
    {
      "cell_type": "code",
      "source": [
        "num =int(input(\"Enter the number of rows: \"))\n",
        "for i in range(num):\n",
        "  print(' '*(num-i)+\"* \"*(i+1))\n",
        "for j in range(num-1):\n",
        "  print(' '*(j+2)+\"* \"*(num-j-1))\n",
        "\n",
        "\n"
      ],
      "metadata": {
        "id": "gOt5uKHsB6As",
        "colab": {
          "base_uri": "https://localhost:8080/"
        },
        "outputId": "bb2df61b-f8d7-40e4-cbb4-a503c7cecf01"
      },
      "execution_count": 93,
      "outputs": [
        {
          "output_type": "stream",
          "name": "stdout",
          "text": [
            "Enter the number of rows: 6\n",
            "      * \n",
            "     * * \n",
            "    * * * \n",
            "   * * * * \n",
            "  * * * * * \n",
            " * * * * * * \n",
            "  * * * * * \n",
            "   * * * * \n",
            "    * * * \n",
            "     * * \n",
            "      * \n"
          ]
        }
      ]
    },
    {
      "cell_type": "code",
      "source": [
        "num =int(input(\"Enter the number of rows: \"))\n",
        "for i in range(num):\n",
        "    for j in range(num -i):\n",
        "      print(end=\" \")\n",
        "    for j in range(2*i+1):\n",
        "      print(\"*\",end=\"\")\n",
        "    print()\n",
        "\n"
      ],
      "metadata": {
        "id": "ZZXCX-aqB6EH",
        "colab": {
          "base_uri": "https://localhost:8080/"
        },
        "outputId": "d329abeb-78cc-4e2e-ebe9-7bb34a0d6a5e"
      },
      "execution_count": 68,
      "outputs": [
        {
          "output_type": "stream",
          "name": "stdout",
          "text": [
            "Enter the number of rows: 6\n",
            "      *\n",
            "     ***\n",
            "    *****\n",
            "   *******\n",
            "  *********\n",
            " ***********\n"
          ]
        }
      ]
    },
    {
      "cell_type": "code",
      "source": [
        "num =int(input(\"Enter the number of rows: \"))\n",
        "for i in range(num):\n",
        "  print(' '*(num-i)+\"*\"*(2*i+1))\n",
        "for j in range(num-1):\n",
        "  print(' '*(j+2)+\"*\"*(2*(num-j-2)+1))\n",
        ""
      ],
      "metadata": {
        "colab": {
          "base_uri": "https://localhost:8080/"
        },
        "id": "x-wyC_tZjjpc",
        "outputId": "e502595b-6e84-4537-8ee4-e9f33037e303"
      },
      "execution_count": 111,
      "outputs": [
        {
          "output_type": "stream",
          "name": "stdout",
          "text": [
            "Enter the number of rows: 6\n",
            "      *\n",
            "     ***\n",
            "    *****\n",
            "   *******\n",
            "  *********\n",
            " ***********\n",
            "  *********\n",
            "   *******\n",
            "    *****\n",
            "     ***\n",
            "      *\n"
          ]
        }
      ]
    }
  ]
}