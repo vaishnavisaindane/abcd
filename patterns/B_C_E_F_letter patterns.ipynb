{
  "nbformat": 4,
  "nbformat_minor": 0,
  "metadata": {
    "colab": {
      "provenance": []
    },
    "kernelspec": {
      "name": "python3",
      "display_name": "Python 3"
    },
    "language_info": {
      "name": "python"
    }
  },
  "cells": [
    {
      "cell_type": "code",
      "execution_count": 2,
      "metadata": {
        "colab": {
          "base_uri": "https://localhost:8080/"
        },
        "id": "5wEuKpZXpfdU",
        "outputId": "9cde3688-9048-4a0d-c57c-06597a581733"
      },
      "outputs": [
        {
          "output_type": "stream",
          "name": "stdout",
          "text": [
            "**** \n",
            "*   *\n",
            "*   *\n",
            "**** \n",
            "*   *\n",
            "*   *\n",
            "**** \n"
          ]
        }
      ],
      "source": [
        "for row in range (7):\n",
        "  for col in range (5):\n",
        "    if (col==0 )or( col==4)and(row!=0 and row!=3 and row!=6) or(row==0 or row==3or row==6 )and(col>0 and col<4):\n",
        "      print(\"*\",end=\"\")\n",
        "    else:\n",
        "      print(end=\" \")\n",
        "  print()\n",
        ""
      ]
    },
    {
      "cell_type": "code",
      "source": [
        "for row in range (7):\n",
        "  for col in range (5):\n",
        "    if (col==0) and(row!=0 and  row!=6)or ((row==0 or row==6)and(col>0)) :\n",
        "      print(\"*\",end=\" \")\n",
        "    else:\n",
        "      print(end=\" \")\n",
        "  print()"
      ],
      "metadata": {
        "colab": {
          "base_uri": "https://localhost:8080/"
        },
        "id": "aaEzz-QfuSM4",
        "outputId": "6a017c2c-673b-462e-dd8a-830de62b3ab6"
      },
      "execution_count": 5,
      "outputs": [
        {
          "output_type": "stream",
          "name": "stdout",
          "text": [
            " * * * * \n",
            "*     \n",
            "*     \n",
            "*     \n",
            "*     \n",
            "*     \n",
            " * * * * \n"
          ]
        }
      ]
    },
    {
      "cell_type": "code",
      "source": [
        "for row in range (7):\n",
        "  for col in range (5):\n",
        "    if (col==0)or (col==4) and(row!=0 and  row!=6)or ((row==0 or row==6)and(col<4)) :\n",
        "      print(\"*\",end=\"\")\n",
        "    else:\n",
        "      print(end=\" \")\n",
        "  print()"
      ],
      "metadata": {
        "colab": {
          "base_uri": "https://localhost:8080/"
        },
        "id": "PFQ-IwvBuSQb",
        "outputId": "68847041-9c37-4b36-9c6b-c6a9b3588c85"
      },
      "execution_count": 9,
      "outputs": [
        {
          "output_type": "stream",
          "name": "stdout",
          "text": [
            "**** \n",
            "*   *\n",
            "*   *\n",
            "*   *\n",
            "*   *\n",
            "*   *\n",
            "**** \n"
          ]
        }
      ]
    },
    {
      "cell_type": "code",
      "source": [
        "for row in range (7):\n",
        "  for col in range (5):\n",
        "    if col==0 or ((row==0 or row==3 or row==6)and (col>0)) :\n",
        "      print(\"*\",end=\"\")\n",
        "    else:\n",
        "      print(end=\" \")\n",
        "  print()"
      ],
      "metadata": {
        "colab": {
          "base_uri": "https://localhost:8080/"
        },
        "id": "BhqjbDKVwH6F",
        "outputId": "20c41dba-d8e3-45a3-d977-91ddbc75e5df"
      },
      "execution_count": 13,
      "outputs": [
        {
          "output_type": "stream",
          "name": "stdout",
          "text": [
            "*****\n",
            "*    \n",
            "*    \n",
            "*****\n",
            "*    \n",
            "*    \n",
            "*****\n"
          ]
        }
      ]
    },
    {
      "cell_type": "code",
      "source": [
        "for row in range (7):\n",
        "  for col in range (5):\n",
        "    if col==0 or ((row==0 or row==3)and (col>0)) :\n",
        "      print(\"*\",end=\"\")\n",
        "    else:\n",
        "      print(end=\" \")\n",
        "  print()"
      ],
      "metadata": {
        "colab": {
          "base_uri": "https://localhost:8080/"
        },
        "id": "OHelcneV1Uuo",
        "outputId": "0e8ca1e1-5313-43eb-c239-20da0d35cedf"
      },
      "execution_count": 14,
      "outputs": [
        {
          "output_type": "stream",
          "name": "stdout",
          "text": [
            "*****\n",
            "*    \n",
            "*    \n",
            "*****\n",
            "*    \n",
            "*    \n",
            "*    \n"
          ]
        }
      ]
    },
    {
      "cell_type": "code",
      "source": [
        "for row in range (7):\n",
        "  for col in range (6):\n",
        "    if col==0 and((row==0 or row==3 or row==5)and (col>0)):\n",
        "      print(\"*\",end=\"\")\n",
        "    else:\n",
        "      print(end=\" \")\n",
        "  print()"
      ],
      "metadata": {
        "colab": {
          "base_uri": "https://localhost:8080/"
        },
        "id": "G2sof7ZM1Ux2",
        "outputId": "cf53ef7e-005f-4897-d42d-f3c8fe64b5dd"
      },
      "execution_count": 24,
      "outputs": [
        {
          "output_type": "stream",
          "name": "stdout",
          "text": [
            "      \n",
            "      \n",
            "      \n",
            "      \n",
            "      \n",
            "      \n",
            "      \n"
          ]
        }
      ]
    },
    {
      "cell_type": "code",
      "source": [],
      "metadata": {
        "id": "1r9kle6n1U08"
      },
      "execution_count": null,
      "outputs": []
    },
    {
      "cell_type": "code",
      "source": [],
      "metadata": {
        "id": "4jWHHAtD1U3Y"
      },
      "execution_count": null,
      "outputs": []
    },
    {
      "cell_type": "code",
      "source": [],
      "metadata": {
        "id": "aknsIvC21U68"
      },
      "execution_count": null,
      "outputs": []
    },
    {
      "cell_type": "code",
      "source": [],
      "metadata": {
        "id": "YFSOYV_4wH9m"
      },
      "execution_count": null,
      "outputs": []
    }
  ]
}